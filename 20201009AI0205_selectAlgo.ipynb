{
  "nbformat": 4,
  "nbformat_minor": 0,
  "metadata": {
    "colab": {
      "name": "20201009AI0205-selectAlgo.ipynb",
      "provenance": [],
      "collapsed_sections": [],
      "authorship_tag": "ABX9TyNGdGNyNMPuM2pOfD8aRn7S",
      "include_colab_link": true
    },
    "kernelspec": {
      "name": "python3",
      "display_name": "Python 3"
    }
  },
  "cells": [
    {
      "cell_type": "markdown",
      "metadata": {
        "id": "view-in-github",
        "colab_type": "text"
      },
      "source": [
        "<a href=\"https://colab.research.google.com/github/ASO1801021/AI_teach2020/blob/master/20201009AI0205_selectAlgo.ipynb\" target=\"_parent\"><img src=\"https://colab.research.google.com/assets/colab-badge.svg\" alt=\"Open In Colab\"/></a>"
      ]
    },
    {
      "cell_type": "markdown",
      "metadata": {
        "id": "muYN8zb_qnUc"
      },
      "source": [
        "### sklearnでエラーが出るので、前のバージョンを入れ直す"
      ]
    },
    {
      "cell_type": "code",
      "metadata": {
        "id": "CvNvk0yImoHQ",
        "outputId": "2c573a5e-01cd-44b8-845e-b1e772541c3f",
        "colab": {
          "base_uri": "https://localhost:8080/",
          "height": 484
        }
      },
      "source": [
        "# 現在のscikitーlearnをcolabのVMからアンインストール\n",
        "!pip uninstall scikit-learn\n",
        "# 前のバージョンを指定してvmにインストール\n",
        "!pip install scikit-learn==0.20 --ignore-installed"
      ],
      "execution_count": 1,
      "outputs": [
        {
          "output_type": "stream",
          "text": [
            "Uninstalling scikit-learn-0.22.2.post1:\n",
            "  Would remove:\n",
            "    /usr/local/lib/python3.6/dist-packages/scikit_learn-0.22.2.post1.dist-info/*\n",
            "    /usr/local/lib/python3.6/dist-packages/sklearn/*\n",
            "Proceed (y/n)? y\n",
            "  Successfully uninstalled scikit-learn-0.22.2.post1\n",
            "Collecting scikit-learn==0.20\n",
            "\u001b[?25l  Downloading https://files.pythonhosted.org/packages/0c/b2/05be9b6da9ae4a4c54f537be22e95833f722742a02b1e355fdc09363877c/scikit_learn-0.20.0-cp36-cp36m-manylinux1_x86_64.whl (5.3MB)\n",
            "\u001b[K     |████████████████████████████████| 5.3MB 3.6MB/s \n",
            "\u001b[?25hCollecting numpy>=1.8.2\n",
            "\u001b[?25l  Downloading https://files.pythonhosted.org/packages/87/86/753182c9085ba4936c0076269a571613387cdb77ae2bf537448bfd63472c/numpy-1.19.4-cp36-cp36m-manylinux2010_x86_64.whl (14.5MB)\n",
            "\u001b[K     |████████████████████████████████| 14.5MB 307kB/s \n",
            "\u001b[?25hCollecting scipy>=0.13.3\n",
            "\u001b[?25l  Downloading https://files.pythonhosted.org/packages/c8/89/63171228d5ced148f5ced50305c89e8576ffc695a90b58fe5bb602b910c2/scipy-1.5.4-cp36-cp36m-manylinux1_x86_64.whl (25.9MB)\n",
            "\u001b[K     |████████████████████████████████| 25.9MB 170kB/s \n",
            "\u001b[31mERROR: tensorflow 2.3.0 has requirement numpy<1.19.0,>=1.16.0, but you'll have numpy 1.19.4 which is incompatible.\u001b[0m\n",
            "\u001b[31mERROR: tensorflow 2.3.0 has requirement scipy==1.4.1, but you'll have scipy 1.5.4 which is incompatible.\u001b[0m\n",
            "\u001b[31mERROR: datascience 0.10.6 has requirement folium==0.2.1, but you'll have folium 0.8.3 which is incompatible.\u001b[0m\n",
            "\u001b[31mERROR: albumentations 0.1.12 has requirement imgaug<0.2.7,>=0.2.5, but you'll have imgaug 0.2.9 which is incompatible.\u001b[0m\n",
            "\u001b[?25hInstalling collected packages: numpy, scipy, scikit-learn\n",
            "Successfully installed numpy-1.19.4 scikit-learn-0.20.0 scipy-1.5.4\n"
          ],
          "name": "stdout"
        },
        {
          "output_type": "display_data",
          "data": {
            "application/vnd.colab-display-data+json": {
              "pip_warning": {
                "packages": [
                  "numpy"
                ]
              }
            }
          },
          "metadata": {
            "tags": []
          }
        }
      ]
    },
    {
      "cell_type": "markdown",
      "metadata": {
        "id": "uI7MHIpyq8uY"
      },
      "source": [
        "### all_estimators()でループして各種のアルゴリズムで学習させ、比較する"
      ]
    },
    {
      "cell_type": "code",
      "metadata": {
        "id": "lP4x1wUQq8eM"
      },
      "source": [
        "# ライブラリ読み込み\n",
        "import pandas as pd\n",
        "# 学習用データとテスト検証用データを分割する\n",
        "from sklearn.model_selection import train_test_split\n",
        "# 正解率を算出するライブラリ\n",
        "from sklearn.metrics import accuracy_score\n",
        "# all_estimaios(推定機の全てを利用できるようにする)\n",
        "from sklearn.utils.testing import all_estimators\n",
        "# 警告クラス\n",
        "import warnings"
      ],
      "execution_count": 2,
      "outputs": []
    },
    {
      "cell_type": "markdown",
      "metadata": {
        "id": "z5lZ6ihDrO7F"
      },
      "source": [
        "### Webからあやめのデータを読み込む"
      ]
    },
    {
      "cell_type": "code",
      "metadata": {
        "id": "s1V7m_PXrOsi",
        "outputId": "ddfa442c-42e3-4e8a-d415-c01d9ee06fad",
        "colab": {
          "base_uri": "https://localhost:8080/",
          "height": 204
        }
      },
      "source": [
        "# urリンクから読み込むライブラリ\n",
        "import urllib.request as req\n",
        "# url用の文字列変数を定義\n",
        "url =\"https://raw.githubusercontent.com/pandas-dev/pandas/master/pandas/tests/io/data/csv/iris.csv\"\n",
        "#リンクから保存するためのファイル名を定義\n",
        "savefile = \"iris.csv\"\n",
        "# requestクラスを使ってurlからデータをsavefileへコピーして保存\n",
        "req.urlretrieve(url,savefile)\n",
        "#pandasのreadメソッドを使ってcsvファイルを読み込む\n",
        "iris_data = pd.read_csv(savefile,encoding=\"utf-8\")\n",
        "iris_data.head()"
      ],
      "execution_count": 3,
      "outputs": [
        {
          "output_type": "execute_result",
          "data": {
            "text/html": [
              "<div>\n",
              "<style scoped>\n",
              "    .dataframe tbody tr th:only-of-type {\n",
              "        vertical-align: middle;\n",
              "    }\n",
              "\n",
              "    .dataframe tbody tr th {\n",
              "        vertical-align: top;\n",
              "    }\n",
              "\n",
              "    .dataframe thead th {\n",
              "        text-align: right;\n",
              "    }\n",
              "</style>\n",
              "<table border=\"1\" class=\"dataframe\">\n",
              "  <thead>\n",
              "    <tr style=\"text-align: right;\">\n",
              "      <th></th>\n",
              "      <th>SepalLength</th>\n",
              "      <th>SepalWidth</th>\n",
              "      <th>PetalLength</th>\n",
              "      <th>PetalWidth</th>\n",
              "      <th>Name</th>\n",
              "    </tr>\n",
              "  </thead>\n",
              "  <tbody>\n",
              "    <tr>\n",
              "      <th>0</th>\n",
              "      <td>5.1</td>\n",
              "      <td>3.5</td>\n",
              "      <td>1.4</td>\n",
              "      <td>0.2</td>\n",
              "      <td>Iris-setosa</td>\n",
              "    </tr>\n",
              "    <tr>\n",
              "      <th>1</th>\n",
              "      <td>4.9</td>\n",
              "      <td>3.0</td>\n",
              "      <td>1.4</td>\n",
              "      <td>0.2</td>\n",
              "      <td>Iris-setosa</td>\n",
              "    </tr>\n",
              "    <tr>\n",
              "      <th>2</th>\n",
              "      <td>4.7</td>\n",
              "      <td>3.2</td>\n",
              "      <td>1.3</td>\n",
              "      <td>0.2</td>\n",
              "      <td>Iris-setosa</td>\n",
              "    </tr>\n",
              "    <tr>\n",
              "      <th>3</th>\n",
              "      <td>4.6</td>\n",
              "      <td>3.1</td>\n",
              "      <td>1.5</td>\n",
              "      <td>0.2</td>\n",
              "      <td>Iris-setosa</td>\n",
              "    </tr>\n",
              "    <tr>\n",
              "      <th>4</th>\n",
              "      <td>5.0</td>\n",
              "      <td>3.6</td>\n",
              "      <td>1.4</td>\n",
              "      <td>0.2</td>\n",
              "      <td>Iris-setosa</td>\n",
              "    </tr>\n",
              "  </tbody>\n",
              "</table>\n",
              "</div>"
            ],
            "text/plain": [
              "   SepalLength  SepalWidth  PetalLength  PetalWidth         Name\n",
              "0          5.1         3.5          1.4         0.2  Iris-setosa\n",
              "1          4.9         3.0          1.4         0.2  Iris-setosa\n",
              "2          4.7         3.2          1.3         0.2  Iris-setosa\n",
              "3          4.6         3.1          1.5         0.2  Iris-setosa\n",
              "4          5.0         3.6          1.4         0.2  Iris-setosa"
            ]
          },
          "metadata": {
            "tags": []
          },
          "execution_count": 3
        }
      ]
    },
    {
      "cell_type": "markdown",
      "metadata": {
        "id": "O2fwjGSerWEY"
      },
      "source": [
        "### アヤメデータを目的変数yと説明変数xに分離する"
      ]
    },
    {
      "cell_type": "code",
      "metadata": {
        "id": "WL67V-cIrV86",
        "outputId": "ad4a8756-7d22-4669-ff51-ad132c9b06a6",
        "colab": {
          "base_uri": "https://localhost:8080/",
          "height": 221
        }
      },
      "source": [
        "y = iris_data.loc[:, \"Name\"] #目的変数\n",
        "x = iris_data.loc[:,[\"SepalLength\",\"SepalWidth\",\"PetalLength\",\"PetalWidth\"]] #説明変数\n",
        "\n",
        "print(y.head())\n",
        "print(x.head())"
      ],
      "execution_count": 4,
      "outputs": [
        {
          "output_type": "stream",
          "text": [
            "0    Iris-setosa\n",
            "1    Iris-setosa\n",
            "2    Iris-setosa\n",
            "3    Iris-setosa\n",
            "4    Iris-setosa\n",
            "Name: Name, dtype: object\n",
            "   SepalLength  SepalWidth  PetalLength  PetalWidth\n",
            "0          5.1         3.5          1.4         0.2\n",
            "1          4.9         3.0          1.4         0.2\n",
            "2          4.7         3.2          1.3         0.2\n",
            "3          4.6         3.1          1.5         0.2\n",
            "4          5.0         3.6          1.4         0.2\n"
          ],
          "name": "stdout"
        }
      ]
    },
    {
      "cell_type": "markdown",
      "metadata": {
        "id": "pIhPo_rbrhD7"
      },
      "source": [
        "### アヤメデータをさらに学習用とテストように分離する"
      ]
    },
    {
      "cell_type": "code",
      "metadata": {
        "id": "8Psh49yDrg7H",
        "outputId": "7e57f604-0198-4d70-fa70-81771ad837c9",
        "colab": {
          "base_uri": "https://localhost:8080/",
          "height": 425
        }
      },
      "source": [
        "# 学習用データ（train）と検証用データ（test）に分離\n",
        "x_train,x_test,y_train,y_test = train_test_split(x,y,test_size=0.2,train_size=0.8,shuffle=True)\n",
        "print(x_train.head())\n",
        "print(y_train.head())\n",
        "print(x_test.head())\n",
        "print(y_test.head())"
      ],
      "execution_count": 5,
      "outputs": [
        {
          "output_type": "stream",
          "text": [
            "     SepalLength  SepalWidth  PetalLength  PetalWidth\n",
            "30           4.8         3.1          1.6         0.2\n",
            "18           5.7         3.8          1.7         0.3\n",
            "54           6.5         2.8          4.6         1.5\n",
            "56           6.3         3.3          4.7         1.6\n",
            "141          6.9         3.1          5.1         2.3\n",
            "30         Iris-setosa\n",
            "18         Iris-setosa\n",
            "54     Iris-versicolor\n",
            "56     Iris-versicolor\n",
            "141     Iris-virginica\n",
            "Name: Name, dtype: object\n",
            "     SepalLength  SepalWidth  PetalLength  PetalWidth\n",
            "101          5.8         2.7          5.1         1.9\n",
            "127          6.1         3.0          4.9         1.8\n",
            "43           5.0         3.5          1.6         0.6\n",
            "144          6.7         3.3          5.7         2.5\n",
            "88           5.6         3.0          4.1         1.3\n",
            "101     Iris-virginica\n",
            "127     Iris-virginica\n",
            "43         Iris-setosa\n",
            "144     Iris-virginica\n",
            "88     Iris-versicolor\n",
            "Name: Name, dtype: object\n"
          ],
          "name": "stdout"
        }
      ]
    },
    {
      "cell_type": "markdown",
      "metadata": {
        "id": "ISwovEWdruF2"
      },
      "source": [
        "### allAlgorithmsにclassifierを指定して「分類」でフィルターしたアルゴリズムの推定器群を取得する"
      ]
    },
    {
      "cell_type": "code",
      "metadata": {
        "id": "J9NzOxfnrn8v"
      },
      "source": [
        "# 推定器のリストをフィルター指定して取得\n",
        "allAlgorithms = all_estimators(type_filter=\"classifier\")\n",
        "# ワーニングを無視する\n",
        "warnings.filterwarnings(\"ignore\")"
      ],
      "execution_count": 6,
      "outputs": []
    },
    {
      "cell_type": "markdown",
      "metadata": {
        "id": "gXiYyZtproUj"
      },
      "source": [
        "### 推定器のリストをループしながら学習&推論させる"
      ]
    },
    {
      "cell_type": "code",
      "metadata": {
        "id": "rPQypxc5rnku",
        "outputId": "e998f7e1-e907-41ad-a2af-74e73cdf3ade",
        "colab": {
          "base_uri": "https://localhost:8080/",
          "height": 544
        }
      },
      "source": [
        "#推定器のリストをループ\n",
        "for(name,algorithm) in allAlgorithms:\n",
        "  #各アルゴリズムのオブジェクトを生成\n",
        "  clf = algorithm() # 各アルゴリズムクラスのコンストラクトを実行\n",
        "  #　学習させる\n",
        "  clf.fit(x_train,y_train)\n",
        "  # 推論する\n",
        "  y_pred = clf.predict(x_test)\n",
        "  # accuracy_scoreで正解率を算出して表示\n",
        "  print(name,\"正解率 = \",accuracy_score(y_test,y_pred) )"
      ],
      "execution_count": 7,
      "outputs": [
        {
          "output_type": "stream",
          "text": [
            "AdaBoostClassifier 正解率 =  0.9666666666666667\n",
            "BaggingClassifier 正解率 =  0.9666666666666667\n",
            "BernoulliNB 正解率 =  0.26666666666666666\n",
            "CalibratedClassifierCV 正解率 =  0.9333333333333333\n",
            "ComplementNB 正解率 =  0.5666666666666667\n",
            "DecisionTreeClassifier 正解率 =  0.9666666666666667\n",
            "ExtraTreeClassifier 正解率 =  0.9666666666666667\n",
            "ExtraTreesClassifier 正解率 =  0.9666666666666667\n",
            "GaussianNB 正解率 =  0.9333333333333333\n",
            "GaussianProcessClassifier 正解率 =  0.9666666666666667\n",
            "GradientBoostingClassifier 正解率 =  0.9666666666666667\n",
            "KNeighborsClassifier 正解率 =  1.0\n",
            "LabelPropagation 正解率 =  0.9666666666666667\n",
            "LabelSpreading 正解率 =  0.9666666666666667\n",
            "LinearDiscriminantAnalysis 正解率 =  0.9666666666666667\n",
            "LinearSVC 正解率 =  0.9666666666666667\n",
            "LogisticRegression 正解率 =  0.9333333333333333\n",
            "LogisticRegressionCV 正解率 =  0.9333333333333333\n",
            "MLPClassifier 正解率 =  0.9666666666666667\n",
            "MultinomialNB 正解率 =  0.8\n",
            "NearestCentroid 正解率 =  0.8666666666666667\n",
            "NuSVC 正解率 =  0.9666666666666667\n",
            "PassiveAggressiveClassifier 正解率 =  0.7333333333333333\n",
            "Perceptron 正解率 =  0.6\n",
            "QuadraticDiscriminantAnalysis 正解率 =  0.9666666666666667\n",
            "RadiusNeighborsClassifier 正解率 =  0.9333333333333333\n",
            "RandomForestClassifier 正解率 =  0.9666666666666667\n",
            "RidgeClassifier 正解率 =  0.8\n",
            "RidgeClassifierCV 正解率 =  0.8\n",
            "SGDClassifier 正解率 =  0.7666666666666667\n",
            "SVC 正解率 =  1.0\n"
          ],
          "name": "stdout"
        }
      ]
    },
    {
      "cell_type": "markdown",
      "metadata": {
        "id": "eOs5uEHPr-TI"
      },
      "source": [
        "##クロスバリデーション"
      ]
    },
    {
      "cell_type": "markdown",
      "metadata": {
        "id": "LZhKlHqosCcg"
      },
      "source": [
        "### クロスバリデーション 関連のライブラリのインポート"
      ]
    },
    {
      "cell_type": "code",
      "metadata": {
        "id": "jCwYIYq_r952"
      },
      "source": [
        "# ライブラリのインポート\n",
        "from sklearn.model_selection import KFold\n",
        "from sklearn.model_selection import cross_val_score"
      ],
      "execution_count": 8,
      "outputs": []
    },
    {
      "cell_type": "markdown",
      "metadata": {
        "id": "IRhGCy_Qr9T5"
      },
      "source": [
        "### クロスバリデーション を実行する"
      ]
    },
    {
      "cell_type": "code",
      "metadata": {
        "id": "qjpMbPm7r9JE"
      },
      "source": [
        "# K分割交差検証用のインスタンスを生成する\n",
        "Kfold = KFold(n_splits=5,shuffle=True)\n",
        "# 　すでに生成してあるall_astimatorsのインスタンスをループさせて、クロスバリデーション を行う\n",
        "for(name,algorithm) in allAlgorithms:\n",
        "  try:\n",
        "    # 各アルゴリズムのインスタンスを取得\n",
        "    clf = algorithm()\n",
        "    #scoreの属性がある学習モデルだけに送る\n",
        "    if hasattr(clf,\"score\"):\n",
        "      scores = cross_val_score(clf,x,y,cv=kfold_cv)\n",
        "      #k=n splits=5回分のクロスバリデーション のスコアを表示\n",
        "      print(name,\"の正解率\")\n",
        "      print(scores)\n",
        "      #ifブロック終了\n",
        "    #tryブロック終了\n",
        "  except: #例外処理のブロック\n",
        "    #何もしない\n",
        "    pass"
      ],
      "execution_count": 9,
      "outputs": []
    },
    {
      "cell_type": "markdown",
      "metadata": {
        "id": "ECes5A3OfNHK"
      },
      "source": [
        "### おまけ:cross_val_scoreもっと詳しい結果を取得できる新しいクロスバリデーションオブジェクト:cross_validate"
      ]
    },
    {
      "cell_type": "code",
      "metadata": {
        "id": "MZ7h104zfMw6"
      },
      "source": [
        "# ライブラリのインポート\n",
        "from sklearn.model_selection import cross_validate"
      ],
      "execution_count": 10,
      "outputs": []
    },
    {
      "cell_type": "markdown",
      "metadata": {
        "id": "7yJQAbqcfcI3"
      },
      "source": [
        "### cross_validateを使ったクロスバリデーション"
      ]
    },
    {
      "cell_type": "code",
      "metadata": {
        "id": "BW5nT6RNfY_z",
        "outputId": "97765cf4-9630-4d77-af55-b3917134cb2c",
        "colab": {
          "base_uri": "https://localhost:8080/",
          "height": 1000
        }
      },
      "source": [
        "# K分割考査検証\n",
        "kfold_cv = KFold(n_splits=5, shuffle=True)\n",
        "# すでに生成してあるall_estimatorsのインスタンスをループさせて、クロスバリデーションを行う\n",
        "for( name, algorithms ) in allAlgorithms:\n",
        "  try:\n",
        "    # 各アルゴリズムのインスタンスを取得\n",
        "    clf = algorithm()\n",
        "    # scoreの属性がある学習モデルだけに絞る\n",
        "    if hasattr( clf, \"score\" ):\n",
        "      # クロスバリデーションをしてスコアを取得する\n",
        "      scores = cross_validate(clf,x,y, cv=kfold_cv)\n",
        "      #　k=n_splits=5 回文のクロスバリデーションのスコアを表示\n",
        "      print( name, \"の正解率\" )\n",
        "      print( scores )\n",
        "    # ifブロックの終了\n",
        "  # tryブロックの終了\n",
        "  except: # 例外処理ブロック\n",
        "    # 何もしない\n",
        "    pass"
      ],
      "execution_count": 11,
      "outputs": [
        {
          "output_type": "stream",
          "text": [
            "AdaBoostClassifier の正解率\n",
            "{'fit_time': array([0.00374675, 0.00297308, 0.00327492, 0.00311613, 0.00180674]), 'score_time': array([0.00131083, 0.0015893 , 0.00137186, 0.0012114 , 0.00077295]), 'test_score': array([0.93333333, 0.96666667, 0.96666667, 1.        , 1.        ]), 'train_score': array([0.98333333, 0.99166667, 0.98333333, 0.98333333, 0.99166667])}\n",
            "BaggingClassifier の正解率\n",
            "{'fit_time': array([0.00180221, 0.00167227, 0.00165701, 0.00171304, 0.00175977]), 'score_time': array([0.00076342, 0.00073433, 0.00074792, 0.00076127, 0.00072718]), 'test_score': array([1.        , 0.96666667, 1.        , 1.        , 0.96666667]), 'train_score': array([0.975     , 0.99166667, 0.99166667, 0.98333333, 0.98333333])}\n",
            "BernoulliNB の正解率\n",
            "{'fit_time': array([0.00288534, 0.00176716, 0.00185251, 0.00197911, 0.00172091]), 'score_time': array([0.00087261, 0.00076461, 0.00077939, 0.0007925 , 0.00077438]), 'test_score': array([0.96666667, 0.96666667, 0.93333333, 1.        , 1.        ]), 'train_score': array([0.98333333, 0.975     , 0.99166667, 0.98333333, 0.98333333])}\n",
            "CalibratedClassifierCV の正解率\n",
            "{'fit_time': array([0.00230336, 0.00168681, 0.00159979, 0.00252557, 0.00255299]), 'score_time': array([0.00104141, 0.00072813, 0.00073361, 0.0010767 , 0.00107765]), 'test_score': array([0.96666667, 0.96666667, 0.96666667, 1.        , 1.        ]), 'train_score': array([1.        , 0.98333333, 0.98333333, 0.99166667, 0.99166667])}\n",
            "ComplementNB の正解率\n",
            "{'fit_time': array([0.00238299, 0.00171995, 0.00192881, 0.00162697, 0.00163794]), 'score_time': array([0.00077128, 0.00077915, 0.00072002, 0.00071883, 0.00075006]), 'test_score': array([1.        , 1.        , 1.        , 0.96666667, 0.93333333]), 'train_score': array([0.98333333, 0.98333333, 0.99166667, 0.98333333, 1.        ])}\n",
            "DecisionTreeClassifier の正解率\n",
            "{'fit_time': array([0.00260282, 0.00173306, 0.00166345, 0.00166059, 0.00160265]), 'score_time': array([0.00121427, 0.0007534 , 0.00072742, 0.00069761, 0.00072265]), 'test_score': array([0.96666667, 0.9       , 0.96666667, 1.        , 1.        ]), 'train_score': array([0.975     , 0.99166667, 0.98333333, 0.98333333, 0.98333333])}\n",
            "ExtraTreeClassifier の正解率\n",
            "{'fit_time': array([0.0017271 , 0.00272894, 0.00188231, 0.00180912, 0.0017283 ]), 'score_time': array([0.00143385, 0.00126386, 0.00078321, 0.00078201, 0.00073957]), 'test_score': array([0.96666667, 1.        , 0.96666667, 0.96666667, 0.93333333]), 'train_score': array([0.98333333, 0.975     , 0.99166667, 0.98333333, 0.975     ])}\n",
            "ExtraTreesClassifier の正解率\n",
            "{'fit_time': array([0.00232911, 0.00161958, 0.0016036 , 0.00159717, 0.00156975]), 'score_time': array([0.00126195, 0.00076294, 0.00070333, 0.00069022, 0.00072789]), 'test_score': array([1.        , 0.93333333, 0.96666667, 0.96666667, 0.93333333]), 'train_score': array([0.98333333, 0.98333333, 0.98333333, 0.99166667, 0.99166667])}\n",
            "GaussianNB の正解率\n",
            "{'fit_time': array([0.00245905, 0.00160384, 0.00165653, 0.00168395, 0.00159025]), 'score_time': array([0.00079679, 0.00071716, 0.00075126, 0.00071263, 0.00071096]), 'test_score': array([1.        , 0.96666667, 0.93333333, 1.        , 0.96666667]), 'train_score': array([0.98333333, 0.975     , 0.99166667, 0.99166667, 0.98333333])}\n",
            "GaussianProcessClassifier の正解率\n",
            "{'fit_time': array([0.00224257, 0.00186539, 0.00244045, 0.00166488, 0.00176692]), 'score_time': array([0.00129342, 0.00092244, 0.00086141, 0.00075006, 0.00079489]), 'test_score': array([1.        , 0.96666667, 0.96666667, 1.        , 0.96666667]), 'train_score': array([0.98333333, 0.99166667, 0.98333333, 0.98333333, 0.98333333])}\n",
            "GradientBoostingClassifier の正解率\n",
            "{'fit_time': array([0.00257373, 0.00265718, 0.00210476, 0.00171185, 0.0017066 ]), 'score_time': array([0.00099945, 0.00127435, 0.00077295, 0.00073075, 0.00073981]), 'test_score': array([0.96666667, 1.        , 0.93333333, 0.96666667, 1.        ]), 'train_score': array([0.99166667, 0.98333333, 1.        , 0.99166667, 0.98333333])}\n",
            "KNeighborsClassifier の正解率\n",
            "{'fit_time': array([0.00261545, 0.00187182, 0.00172448, 0.00163436, 0.00163841]), 'score_time': array([0.00134206, 0.00079346, 0.00073218, 0.00073552, 0.00070262]), 'test_score': array([1.        , 1.        , 0.93333333, 0.93333333, 0.96666667]), 'train_score': array([0.975     , 0.98333333, 0.99166667, 0.99166667, 0.99166667])}\n",
            "LabelPropagation の正解率\n",
            "{'fit_time': array([0.00238895, 0.00168586, 0.00171399, 0.00161457, 0.00161076]), 'score_time': array([0.00078225, 0.00074506, 0.00074124, 0.00071168, 0.00068879]), 'test_score': array([1.        , 0.93333333, 0.96666667, 1.        , 0.93333333]), 'train_score': array([0.98333333, 0.99166667, 0.99166667, 0.96666667, 0.99166667])}\n",
            "LabelSpreading の正解率\n",
            "{'fit_time': array([0.00300026, 0.0016489 , 0.00169659, 0.00177884, 0.00169897]), 'score_time': array([0.00082612, 0.00073624, 0.00072217, 0.00082111, 0.00073218]), 'test_score': array([1.        , 0.9       , 1.        , 0.96666667, 1.        ]), 'train_score': array([0.98333333, 1.        , 0.975     , 0.99166667, 0.98333333])}\n",
            "LinearDiscriminantAnalysis の正解率\n",
            "{'fit_time': array([0.00247931, 0.00173497, 0.00164127, 0.00161004, 0.00164127]), 'score_time': array([0.00145626, 0.00077343, 0.00072384, 0.00072265, 0.00069857]), 'test_score': array([1.        , 0.96666667, 0.96666667, 1.        , 0.96666667]), 'train_score': array([0.99166667, 0.98333333, 0.98333333, 0.975     , 0.98333333])}\n",
            "LinearSVC の正解率\n",
            "{'fit_time': array([0.00230169, 0.00173092, 0.0017972 , 0.00176597, 0.00183868]), 'score_time': array([0.00122356, 0.00097919, 0.00077057, 0.00075412, 0.00074267]), 'test_score': array([0.96666667, 0.96666667, 1.        , 0.93333333, 0.96666667]), 'train_score': array([1.        , 0.95833333, 0.99166667, 0.99166667, 0.98333333])}\n",
            "LogisticRegression の正解率\n",
            "{'fit_time': array([0.00188279, 0.00180268, 0.00196004, 0.00291824, 0.00175714]), 'score_time': array([0.00081515, 0.00076127, 0.00159693, 0.00121546, 0.00076199]), 'test_score': array([1.        , 0.96666667, 1.        , 0.93333333, 0.93333333]), 'train_score': array([0.98333333, 0.98333333, 0.98333333, 0.99166667, 0.99166667])}\n",
            "LogisticRegressionCV の正解率\n",
            "{'fit_time': array([0.00247955, 0.00161004, 0.00160146, 0.00158167, 0.00166345]), 'score_time': array([0.00076938, 0.00073409, 0.00071383, 0.00072265, 0.00073457]), 'test_score': array([1.        , 0.93333333, 0.96666667, 1.        , 0.96666667]), 'train_score': array([0.99166667, 0.99166667, 0.98333333, 0.99166667, 0.98333333])}\n",
            "MLPClassifier の正解率\n",
            "{'fit_time': array([0.00287032, 0.00180221, 0.00171041, 0.00162458, 0.0016408 ]), 'score_time': array([0.00086617, 0.00075579, 0.00074911, 0.00073075, 0.00070786]), 'test_score': array([1.        , 0.96666667, 1.        , 0.96666667, 1.        ]), 'train_score': array([0.98333333, 0.99166667, 0.99166667, 0.99166667, 0.98333333])}\n",
            "MultinomialNB の正解率\n",
            "{'fit_time': array([0.00220895, 0.00164008, 0.0017786 , 0.00170279, 0.00167155]), 'score_time': array([0.00120687, 0.00119162, 0.00075412, 0.00078464, 0.00077963]), 'test_score': array([1.        , 1.        , 0.96666667, 1.        , 0.96666667]), 'train_score': array([0.99166667, 0.99166667, 0.975     , 0.99166667, 0.99166667])}\n",
            "NearestCentroid の正解率\n",
            "{'fit_time': array([0.00231171, 0.00172806, 0.00296092, 0.00198174, 0.00174308]), 'score_time': array([0.00112748, 0.00078106, 0.00138903, 0.00084448, 0.00075078]), 'test_score': array([0.96666667, 0.96666667, 0.96666667, 1.        , 0.96666667]), 'train_score': array([0.975     , 0.99166667, 0.99166667, 0.98333333, 0.99166667])}\n",
            "NuSVC の正解率\n",
            "{'fit_time': array([0.00241637, 0.00165892, 0.00161767, 0.00159287, 0.00164461]), 'score_time': array([0.00077724, 0.00072408, 0.00069594, 0.00071669, 0.0007093 ]), 'test_score': array([1.        , 0.93333333, 0.93333333, 1.        , 0.96666667]), 'train_score': array([0.98333333, 0.99166667, 0.98333333, 0.975     , 0.99166667])}\n",
            "PassiveAggressiveClassifier の正解率\n",
            "{'fit_time': array([0.00270939, 0.00180054, 0.00166798, 0.00162745, 0.0016408 ]), 'score_time': array([0.00129557, 0.00076342, 0.00069261, 0.00085258, 0.00073147]), 'test_score': array([1.        , 0.96666667, 0.93333333, 0.93333333, 1.        ]), 'train_score': array([0.98333333, 0.98333333, 0.99166667, 0.99166667, 0.98333333])}\n",
            "Perceptron の正解率\n",
            "{'fit_time': array([0.00226498, 0.00172043, 0.0018332 , 0.00181246, 0.00235033]), 'score_time': array([0.00164628, 0.0007534 , 0.00082254, 0.00125146, 0.00082946]), 'test_score': array([1.        , 0.96666667, 0.96666667, 0.96666667, 0.93333333]), 'train_score': array([0.975     , 0.98333333, 0.99166667, 0.98333333, 0.99166667])}\n",
            "QuadraticDiscriminantAnalysis の正解率\n",
            "{'fit_time': array([0.00247073, 0.00189662, 0.00173092, 0.00165987, 0.00174427]), 'score_time': array([0.00101447, 0.00080442, 0.00073576, 0.00073051, 0.00074244]), 'test_score': array([0.96666667, 0.96666667, 0.96666667, 1.        , 0.93333333]), 'train_score': array([0.99166667, 0.99166667, 0.975     , 0.98333333, 1.        ])}\n",
            "RadiusNeighborsClassifier の正解率\n",
            "{'fit_time': array([0.00265718, 0.00172448, 0.00169659, 0.00163293, 0.00182986]), 'score_time': array([0.00098729, 0.00073481, 0.00071907, 0.00073934, 0.00069857]), 'test_score': array([0.96666667, 0.96666667, 1.        , 0.96666667, 0.96666667]), 'train_score': array([0.98333333, 0.99166667, 0.975     , 0.98333333, 0.99166667])}\n",
            "RandomForestClassifier の正解率\n",
            "{'fit_time': array([0.00221181, 0.00352001, 0.00214648, 0.00175977, 0.00160837]), 'score_time': array([0.00113583, 0.00123549, 0.00079083, 0.00076413, 0.00071907]), 'test_score': array([0.93333333, 1.        , 0.96666667, 1.        , 0.96666667]), 'train_score': array([0.99166667, 0.98333333, 0.99166667, 0.975     , 0.99166667])}\n",
            "RidgeClassifier の正解率\n",
            "{'fit_time': array([0.00205278, 0.00270104, 0.00185537, 0.00178289, 0.00168157]), 'score_time': array([0.0011034 , 0.00118446, 0.00077701, 0.00073981, 0.00073862]), 'test_score': array([0.96666667, 0.96666667, 0.96666667, 0.93333333, 1.        ]), 'train_score': array([0.99166667, 0.99166667, 0.98333333, 0.98333333, 0.98333333])}\n",
            "RidgeClassifierCV の正解率\n",
            "{'fit_time': array([0.0024488 , 0.00170636, 0.00170565, 0.00171804, 0.00173163]), 'score_time': array([0.00080681, 0.00076103, 0.00072598, 0.0007534 , 0.00076699]), 'test_score': array([0.93333333, 1.        , 1.        , 1.        , 0.93333333]), 'train_score': array([0.99166667, 0.975     , 0.98333333, 0.975     , 0.99166667])}\n",
            "SGDClassifier の正解率\n",
            "{'fit_time': array([0.00269771, 0.00186729, 0.00185156, 0.00243044, 0.00334263]), 'score_time': array([0.00131655, 0.00084114, 0.00077701, 0.00132132, 0.00117517]), 'test_score': array([0.93333333, 0.96666667, 1.        , 0.96666667, 0.96666667]), 'train_score': array([0.98333333, 0.99166667, 0.98333333, 0.98333333, 0.99166667])}\n",
            "SVC の正解率\n",
            "{'fit_time': array([0.00613737, 0.00211072, 0.00189376, 0.00200272, 0.00192142]), 'score_time': array([0.0018189 , 0.00087762, 0.00082564, 0.00086164, 0.00084114]), 'test_score': array([1.        , 0.93333333, 1.        , 0.96666667, 1.        ]), 'train_score': array([0.975     , 0.99166667, 0.98333333, 0.99166667, 0.99166667])}\n"
          ],
          "name": "stdout"
        }
      ]
    },
    {
      "cell_type": "markdown",
      "metadata": {
        "id": "pNFMC4z0fnMI"
      },
      "source": [
        "### Numpyの動作確認"
      ]
    },
    {
      "cell_type": "code",
      "metadata": {
        "id": "EwNM7C-afm-M"
      },
      "source": [
        "# import\n",
        "import numpy as np"
      ],
      "execution_count": 12,
      "outputs": []
    },
    {
      "cell_type": "code",
      "metadata": {
        "id": "ZYIo3Xo0fv9v",
        "outputId": "e0a6a0cf-c0ba-4776-fcbb-8322ed795aa9",
        "colab": {
          "base_uri": "https://localhost:8080/",
          "height": 51
        }
      },
      "source": [
        "# numpy配列の初期化\n",
        "a = np.array([1,2,3,4,5]) # numpy配列オブジェクトを生成\n",
        "print(a)\n",
        "# 型を表示\n",
        "print(type(a))"
      ],
      "execution_count": 13,
      "outputs": [
        {
          "output_type": "stream",
          "text": [
            "[1 2 3 4 5]\n",
            "<class 'numpy.ndarray'>\n"
          ],
          "name": "stdout"
        }
      ]
    },
    {
      "cell_type": "markdown",
      "metadata": {
        "id": "fG5smwK0gAo2"
      },
      "source": [
        "<class 'numpy.ndarray'>"
      ]
    },
    {
      "cell_type": "code",
      "metadata": {
        "id": "-qTYmZlhf-Ng",
        "outputId": "8e0c01ab-9569-4e3f-bcbd-a14ed8d3e0e9",
        "colab": {
          "base_uri": "https://localhost:8080/",
          "height": 51
        }
      },
      "source": [
        "# 二次元のndarrayを定義\n",
        "b = np.array([[1,2,3],[4,5,6]])\n",
        "print(b)"
      ],
      "execution_count": 14,
      "outputs": [
        {
          "output_type": "stream",
          "text": [
            "[[1 2 3]\n",
            " [4 5 6]]\n"
          ],
          "name": "stdout"
        }
      ]
    },
    {
      "cell_type": "code",
      "metadata": {
        "id": "0oRlAVZwgJAE",
        "outputId": "4db9a6d7-8bf9-4c4f-87bf-c628ec0ad48b",
        "colab": {
          "base_uri": "https://localhost:8080/",
          "height": 102
        }
      },
      "source": [
        "# 配列の要素数を指定して０うめで初期化\n",
        "print(np.zeros(10))\n",
        "print(np.zeros((3,2)))\n",
        "print(np.ones(2))"
      ],
      "execution_count": 15,
      "outputs": [
        {
          "output_type": "stream",
          "text": [
            "[0. 0. 0. 0. 0. 0. 0. 0. 0. 0.]\n",
            "[[0. 0.]\n",
            " [0. 0.]\n",
            " [0. 0.]]\n",
            "[1. 1.]\n"
          ],
          "name": "stdout"
        }
      ]
    },
    {
      "cell_type": "code",
      "metadata": {
        "id": "sSw8QiPvgNwS",
        "outputId": "a297aa5c-d9a9-442d-f154-92c1a042d32d",
        "colab": {
          "base_uri": "https://localhost:8080/",
          "height": 68
        }
      },
      "source": [
        "print(np.arange(5))\n",
        "print(np.arange(2,9))\n",
        "print(np.arange(5,8,0.5))"
      ],
      "execution_count": 16,
      "outputs": [
        {
          "output_type": "stream",
          "text": [
            "[0 1 2 3 4]\n",
            "[2 3 4 5 6 7 8]\n",
            "[5.  5.5 6.  6.5 7.  7.5]\n"
          ],
          "name": "stdout"
        }
      ]
    },
    {
      "cell_type": "code",
      "metadata": {
        "id": "3soGCSAogNhQ",
        "outputId": "56763744-14e2-464f-dc41-9e011ffdcc95",
        "colab": {
          "base_uri": "https://localhost:8080/",
          "height": 68
        }
      },
      "source": [
        "# numpyで行列計算\n",
        "a = np.array([1,2,3,4,5])\n",
        "b = a*2\n",
        "print(b)\n",
        "x = np.arange(10)\n",
        "print(x)\n",
        "y = 3*x + 5\n",
        "print(y)"
      ],
      "execution_count": 17,
      "outputs": [
        {
          "output_type": "stream",
          "text": [
            "[ 2  4  6  8 10]\n",
            "[0 1 2 3 4 5 6 7 8 9]\n",
            "[ 5  8 11 14 17 20 23 26 29 32]\n"
          ],
          "name": "stdout"
        }
      ]
    },
    {
      "cell_type": "code",
      "metadata": {
        "id": "4qA0BMw0gVRC",
        "outputId": "39624f5b-621e-4ab9-8acf-b2828383bf9f",
        "colab": {
          "base_uri": "https://localhost:8080/",
          "height": 136
        }
      },
      "source": [
        "a = np.array([[1,2,3],[4,5,6]])\n",
        "print(a)\n",
        "print(a.shape)\n",
        "\n",
        "b = np.array([[1,2,3],[4,5,6],[7,8,9]])\n",
        "print(b)\n",
        "print(b.shape)"
      ],
      "execution_count": 20,
      "outputs": [
        {
          "output_type": "stream",
          "text": [
            "[[1 2 3]\n",
            " [4 5 6]]\n",
            "(2, 3)\n",
            "[[1 2 3]\n",
            " [4 5 6]\n",
            " [7 8 9]]\n",
            "(3, 3)\n"
          ],
          "name": "stdout"
        }
      ]
    },
    {
      "cell_type": "code",
      "metadata": {
        "id": "rkBqwUtFgVGp",
        "outputId": "66d14581-940c-4d30-fa51-2efd08dc719b",
        "colab": {
          "base_uri": "https://localhost:8080/",
          "height": 153
        }
      },
      "source": [
        "# Numpy配列で次元数を変換する\n",
        "a = np.array([[1,2,3],[4,5,6]])\n",
        "print(\"a=\", a)\n",
        "b = a.flatten()\n",
        "print(\"b=\", b)\n",
        "\n",
        "a = np.array([[1,2,3],[4,5,6]])\n",
        "print(a)\n",
        "b = a.reshape(3,2)\n",
        "print(b)"
      ],
      "execution_count": 21,
      "outputs": [
        {
          "output_type": "stream",
          "text": [
            "a= [[1 2 3]\n",
            " [4 5 6]]\n",
            "b= [1 2 3 4 5 6]\n",
            "[[1 2 3]\n",
            " [4 5 6]]\n",
            "[[1 2]\n",
            " [3 4]\n",
            " [5 6]]\n"
          ],
          "name": "stdout"
        }
      ]
    },
    {
      "cell_type": "markdown",
      "metadata": {
        "id": "BahLdEuugezN"
      },
      "source": [
        "### numpyの配列にアクセスする方法"
      ]
    },
    {
      "cell_type": "code",
      "metadata": {
        "id": "JkvktmzygelK",
        "outputId": "d921d7ea-c729-4aea-96d9-1097800330a8",
        "colab": {
          "base_uri": "https://localhost:8080/",
          "height": 85
        }
      },
      "source": [
        "v = np.array([[1,2,3],[4,5,6],[7,8,9]])\n",
        "a = v[0]\n",
        "print(a) # 二次元配列の０行目\n",
        "b = v[1:] #  一列目いこう\n",
        "print(b)\n",
        "c = v[:,0]\n",
        "print(c)"
      ],
      "execution_count": 22,
      "outputs": [
        {
          "output_type": "stream",
          "text": [
            "[1 2 3]\n",
            "[[4 5 6]\n",
            " [7 8 9]]\n",
            "[1 4 7]\n"
          ],
          "name": "stdout"
        }
      ]
    }
  ]
}