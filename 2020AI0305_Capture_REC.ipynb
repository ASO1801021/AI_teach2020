{
  "nbformat": 4,
  "nbformat_minor": 0,
  "metadata": {
    "colab": {
      "name": "2020AI0305_Capture_REC.ipynb",
      "provenance": [],
      "collapsed_sections": [],
      "authorship_tag": "ABX9TyNIeLHeRhvt7QCuYAuos6Mh",
      "include_colab_link": true
    },
    "kernelspec": {
      "name": "python3",
      "display_name": "Python 3"
    }
  },
  "cells": [
    {
      "cell_type": "markdown",
      "metadata": {
        "id": "view-in-github",
        "colab_type": "text"
      },
      "source": [
        "<a href=\"https://colab.research.google.com/github/ASO1801021/AI_teach2020/blob/master/2020AI0305_Capture_REC.ipynb\" target=\"_parent\"><img src=\"https://colab.research.google.com/assets/colab-badge.svg\" alt=\"Open In Colab\"/></a>"
      ]
    },
    {
      "cell_type": "markdown",
      "metadata": {
        "id": "4xJbBMGY4NcE"
      },
      "source": [
        "###ライブラリのダウンロード"
      ]
    },
    {
      "cell_type": "code",
      "metadata": {
        "id": "iC_5EG3L4NSH"
      },
      "source": [
        "import cv2, os\n",
        "import urllib.request as req"
      ],
      "execution_count": 22,
      "outputs": []
    },
    {
      "cell_type": "markdown",
      "metadata": {
        "id": "yYXn4I-_4LY6"
      },
      "source": [
        "###動画ファイルのダウンロード"
      ]
    },
    {
      "cell_type": "code",
      "metadata": {
        "colab": {
          "base_uri": "https://localhost:8080/"
        },
        "id": "bnbAAuHE4I3R",
        "outputId": "b34b8c89-5f4a-4eb6-d314-f23af814f441"
      },
      "source": [
        "url = \"https://github.com/masatokg/sample_photo/raw/master/fish.mp4\"\n",
        "save_file=\"fish.mp4\"\n",
        "req.urlretrieve( url, save_file )"
      ],
      "execution_count": 23,
      "outputs": [
        {
          "output_type": "execute_result",
          "data": {
            "text/plain": [
              "('fish.mp4', <http.client.HTTPMessage at 0x7f48eaa1f6a0>)"
            ]
          },
          "metadata": {
            "tags": []
          },
          "execution_count": 23
        }
      ]
    },
    {
      "cell_type": "markdown",
      "metadata": {
        "id": "QyhOyFav4iA6"
      },
      "source": [
        "###キャプチャ処理用の定義"
      ]
    },
    {
      "cell_type": "code",
      "metadata": {
        "id": "19Xi17o14h3v"
      },
      "source": [
        "# 保存ファイル名\n",
        "out_file = \"out.mp4\"\n",
        "# キャプチャソースを指定してキャプチャインスタンスを取得\n",
        "# webカメラの場合、０動画ファイルの場合、ファイルパス\n",
        "cap = cv2.VideoCapture( save_file )\n",
        "# 動画フォーマット（mp４ビデオ）を指定するインスタンスを取得\n",
        "fourcc = cv2.VideoWriter_fourcc('M', 'P', '4', 'V')\n",
        "# フレームレート（fps）を指定\n",
        "fps = 30.0"
      ],
      "execution_count": 24,
      "outputs": []
    },
    {
      "cell_type": "markdown",
      "metadata": {
        "id": "1Hmo3wEU4hsT"
      },
      "source": [
        "###キャプチャしたフレームの加工処理用関数"
      ]
    },
    {
      "cell_type": "code",
      "metadata": {
        "id": "9W7qVzlc4hir"
      },
      "source": [
        "# フレームを引数で受け取り、加工して戻り値で返す\n",
        "def process_img( frame ):\n",
        "\n",
        "  #　加工処理\n",
        "  # BGRのうち、BGを０にしてRの光だけにする\n",
        "  frame[:, :, 0] = 0; # B\n",
        "  frame[:, :, 1] = 0; # G\n",
        "  \n",
        "  return frame"
      ],
      "execution_count": 25,
      "outputs": []
    },
    {
      "cell_type": "markdown",
      "metadata": {
        "id": "YBEE7Xze4hZV"
      },
      "source": [
        "###フレームを受け取り、そのフレームサイズでキャプチャ画像を録画するためのレコーダーを定義して戻り値で返す関数"
      ]
    },
    {
      "cell_type": "code",
      "metadata": {
        "id": "rixV1qHx4hOC"
      },
      "source": [
        "def open_recorder( frame ):\n",
        "  h = len( frame ) # フレームの高さ（Numpy２次元配列の行数）\n",
        "  w = len( frame[0] ) # フレームの幅（Numpy２次元配列の列数）\n",
        "  size = (w,h) # フレーム画像サイズをタプル変数で定義\n",
        "  # レコーダーのインスタンスを生成\n",
        "  recorder = cv2.VideoWriter( out_file, fourcc, fps, size, isColor=True )\n",
        "  return recorder"
      ],
      "execution_count": 26,
      "outputs": []
    },
    {
      "cell_type": "markdown",
      "metadata": {
        "id": "t-jX-tpW4gdA"
      },
      "source": [
        "###キャプチャの読み込み処理を実行"
      ]
    },
    {
      "cell_type": "code",
      "metadata": {
        "colab": {
          "base_uri": "https://localhost:8080/"
        },
        "id": "fXCpVOWn4gT7",
        "outputId": "a61b8fb0-eeab-46c5-ad46-2f7e0b91c304"
      },
      "source": [
        "# 1フレーム読み込み\n",
        "is_ok, frame = cap.read()\n",
        "if is_ok:\n",
        "  print(\" frame has read.\")\n",
        "  # そのフレームを録画するレコーダーを開く自作関数\n",
        "  recorder = open_recorder( frame )\n",
        "  # 読み込むフレームがなくなるmでむげんるーぷ\n",
        "  while True:\n",
        "    #　読み込んだフレームを加工\n",
        "    frame = process_img(frame)\n",
        "    # 加工したフレームをレコーダーに書き込む\n",
        "    recorder.write( frame )\n",
        "    # 次の１フレームを読み込む\n",
        "    is_ok, frame = cap.read()\n",
        "    # 読み込むフレームがなかったら、無限ループをBreak\n",
        "    if is_ok is not True:\n",
        "      break\n",
        "    # if文終了\n",
        "  # while分終了\n",
        "  else:\n",
        "    print(\"there is no frame.\")\n",
        "  # if文終了"
      ],
      "execution_count": 27,
      "outputs": [
        {
          "output_type": "stream",
          "text": [
            " frame has read.\n"
          ],
          "name": "stdout"
        }
      ]
    },
    {
      "cell_type": "markdown",
      "metadata": {
        "id": "OI8jr1RZ5AOg"
      },
      "source": [
        "###後処理とダウンロード;//"
      ]
    },
    {
      "cell_type": "code",
      "metadata": {
        "colab": {
          "base_uri": "https://localhost:8080/",
          "height": 34
        },
        "id": "EzvOURQt5AE5",
        "outputId": "14c38018-38d1-4ee5-b082-5ed3ebda9b79"
      },
      "source": [
        "# レコーダーの開放\n",
        "recorder.release()\n",
        "# キャプチャの開放\n",
        "cap.release()\n",
        "#　メッセージ\n",
        "print(\"capture and recording end.\")\n",
        "# 出力mp４ファイルのダウンロード処理\n",
        "from google.colab import files\n",
        "files.download( out_file )"
      ],
      "execution_count": 28,
      "outputs": [
        {
          "output_type": "stream",
          "text": [
            "capture and recording end.\n"
          ],
          "name": "stdout"
        },
        {
          "output_type": "display_data",
          "data": {
            "application/javascript": [
              "\n",
              "    async function download(id, filename, size) {\n",
              "      if (!google.colab.kernel.accessAllowed) {\n",
              "        return;\n",
              "      }\n",
              "      const div = document.createElement('div');\n",
              "      const label = document.createElement('label');\n",
              "      label.textContent = `Downloading \"${filename}\": `;\n",
              "      div.appendChild(label);\n",
              "      const progress = document.createElement('progress');\n",
              "      progress.max = size;\n",
              "      div.appendChild(progress);\n",
              "      document.body.appendChild(div);\n",
              "\n",
              "      const buffers = [];\n",
              "      let downloaded = 0;\n",
              "\n",
              "      const channel = await google.colab.kernel.comms.open(id);\n",
              "      // Send a message to notify the kernel that we're ready.\n",
              "      channel.send({})\n",
              "\n",
              "      for await (const message of channel.messages) {\n",
              "        // Send a message to notify the kernel that we're ready.\n",
              "        channel.send({})\n",
              "        if (message.buffers) {\n",
              "          for (const buffer of message.buffers) {\n",
              "            buffers.push(buffer);\n",
              "            downloaded += buffer.byteLength;\n",
              "            progress.value = downloaded;\n",
              "          }\n",
              "        }\n",
              "      }\n",
              "      const blob = new Blob(buffers, {type: 'application/binary'});\n",
              "      const a = document.createElement('a');\n",
              "      a.href = window.URL.createObjectURL(blob);\n",
              "      a.download = filename;\n",
              "      div.appendChild(a);\n",
              "      a.click();\n",
              "      div.remove();\n",
              "    }\n",
              "  "
            ],
            "text/plain": [
              "<IPython.core.display.Javascript object>"
            ]
          },
          "metadata": {
            "tags": []
          }
        },
        {
          "output_type": "display_data",
          "data": {
            "application/javascript": [
              "download(\"download_d5d4afe7-b3dc-4d34-8c3d-5388d3990b6c\", \"out.mp4\", 11128507)"
            ],
            "text/plain": [
              "<IPython.core.display.Javascript object>"
            ]
          },
          "metadata": {
            "tags": []
          }
        }
      ]
    }
  ]
}